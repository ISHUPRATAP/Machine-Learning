{
  "nbformat": 4,
  "nbformat_minor": 0,
  "metadata": {
    "colab": {
      "provenance": []
    },
    "kernelspec": {
      "name": "python3",
      "display_name": "Python 3"
    },
    "language_info": {
      "name": "python"
    }
  },
  "cells": [
    {
      "cell_type": "code",
      "execution_count": null,
      "metadata": {
        "id": "ntBfRiXACzUo"
      },
      "outputs": [],
      "source": []
    },
    {
      "cell_type": "markdown",
      "source": [
        "QUESTION 1\n",
        "AI (Artificial Intelligence) is the broad field focused on building systems that can mimic human intelligence.\n",
        "\n",
        "ML (Machine Learning) is a subset of AI that enables machines to learn patterns from data without being explicitly programmed.\n",
        "\n",
        "DL (Deep Learning) is a subset of ML that uses neural networks with many layers to model complex patterns, especially in unstructured data like images or audio.\n",
        "\n",
        "DS (Data Science) is a broader field that involves extracting insights from data using statistics, ML, data analysis, and domain knowledge—it may or may not include AI."
      ],
      "metadata": {
        "id": "6z8-80S-DUx5"
      }
    },
    {
      "cell_type": "markdown",
      "source": [
        "QUESTION 2\n",
        "Supervised Learning: The model learns from labeled data.\n",
        "Example: Email spam detection where emails are labeled as “spam” or “not spam.”\n",
        "\n",
        "Unsupervised Learning: The model finds patterns in unlabeled data.\n",
        "Example: Customer segmentation in marketing based on purchasing behavior.\n",
        "\n",
        "Reinforcement Learning: The model learns by interacting with an environment and receiving rewards or penalties.\n",
        "Example: A robot learning to walk by trial and error."
      ],
      "metadata": {
        "id": "kqpFKQQCDXmv"
      }
    },
    {
      "cell_type": "markdown",
      "source": [
        "QUESTION 3\n",
        "Overfitting: The model learns noise and details from training data too well, performing poorly on new data.\n",
        "\n",
        "Underfitting: The model is too simple to capture underlying patterns, performing poorly on both training and test data.\n",
        "\n",
        "Bias-Variance Tradeoff: Balancing bias (error from wrong assumptions, causing underfitting) and variance (error from sensitivity to small fluctuations, causing overfitting) to achieve good generalization."
      ],
      "metadata": {
        "id": "Hd8XoDSMECNM"
      }
    },
    {
      "cell_type": "markdown",
      "source": [
        "QUESTION 4\n",
        "Outliers are data points that significantly differ from other observations and can distort model performance.\n",
        "\n",
        "Three common techniques to handle them:\n",
        "\n",
        "Removal – Delete outliers if they are errors or irrelevant.\n",
        "\n",
        "Transformation – Apply log or square root to reduce impact.\n",
        "\n",
        "Imputation – Replace outliers with mean, median, or a capped value (e.g., using IQR)."
      ],
      "metadata": {
        "id": "tdqUcsfFEImE"
      }
    },
    {
      "cell_type": "markdown",
      "source": [
        "QUESTION 5\n",
        "\n",
        "Handling missing values involves detecting them, understanding their cause, and applying suitable strategies like removal or imputation.\n",
        "\n",
        "Numerical Imputation: Replace missing values with the mean or median.\n",
        "Example: Fill missing age values with the median age.\n",
        "\n",
        "Categorical Imputation: Replace missing values with the mode (most frequent category).\n",
        "Example: Fill missing gender entries with the most common gender."
      ],
      "metadata": {
        "id": "gp7e9UBGETap"
      }
    },
    {
      "cell_type": "markdown",
      "source": [],
      "metadata": {
        "id": "FShW9_wAEjew"
      }
    },
    {
      "cell_type": "code",
      "source": [
        "#QUESTION 6\n",
        "from sklearn.datasets import make_classification\n",
        "from collections import Counter\n",
        "import numpy as np\n",
        "\n",
        "# Create synthetic imbalanced dataset\n",
        "X, y = make_classification(n_samples=1000, n_features=10, n_informative=5,\n",
        "                           n_redundant=2, n_clusters_per_class=1, weights=[0.9, 0.1],\n",
        "                           random_state=42)\n",
        "\n",
        "# Print class distribution\n",
        "class_distribution = Counter(y)\n",
        "print(\"Class distribution:\", class_distribution)\n"
      ],
      "metadata": {
        "colab": {
          "base_uri": "https://localhost:8080/"
        },
        "id": "8ayX5uV2Eqi1",
        "outputId": "9a47179f-15b4-459c-c2cf-b013df436ba8"
      },
      "execution_count": 1,
      "outputs": [
        {
          "output_type": "stream",
          "name": "stdout",
          "text": [
            "Class distribution: Counter({np.int64(0): 896, np.int64(1): 104})\n"
          ]
        }
      ]
    },
    {
      "cell_type": "code",
      "source": [
        "#QUESTION 7\n",
        "import pandas as pd\n",
        "\n",
        "# Original list\n",
        "colors = ['Red', 'Green', 'Blue', 'Green', 'Red']\n",
        "\n",
        "# Create DataFrame\n",
        "df = pd.DataFrame({'Color': colors})\n",
        "\n",
        "# One-hot encoding\n",
        "one_hot_encoded = pd.get_dummies(df, columns=['Color'])\n",
        "\n",
        "# Print result\n",
        "print(one_hot_encoded)\n"
      ],
      "metadata": {
        "colab": {
          "base_uri": "https://localhost:8080/"
        },
        "id": "bgTlJvKdE15p",
        "outputId": "c4b83e14-7b13-49a6-fce2-5c44d668524a"
      },
      "execution_count": 2,
      "outputs": [
        {
          "output_type": "stream",
          "name": "stdout",
          "text": [
            "   Color_Blue  Color_Green  Color_Red\n",
            "0       False        False       True\n",
            "1       False         True      False\n",
            "2        True        False      False\n",
            "3       False         True      False\n",
            "4       False        False       True\n"
          ]
        }
      ]
    },
    {
      "cell_type": "code",
      "source": [
        "#QUESTION 8\n",
        "import numpy as np\n",
        "import pandas as pd\n",
        "import matplotlib.pyplot as plt\n",
        "\n",
        "# Step 1: Generate 1000 samples from a normal distribution\n",
        "data = np.random.normal(loc=0, scale=1, size=1000)\n",
        "df = pd.DataFrame(data, columns=['Value'])\n",
        "\n",
        "# Step 2: Introduce 50 random missing values\n",
        "missing_indices = np.random.choice(df.index, size=50, replace=False)\n",
        "df.loc[missing_indices, 'Value'] = np.nan\n",
        "\n",
        "# Store copy before imputation\n",
        "df_before = df.copy()\n",
        "\n",
        "# Step 3: Fill missing values with column mean\n",
        "mean_value = df['Value'].mean()\n",
        "df['Value'].fillna(mean_value, inplace=True)\n",
        "\n",
        "# Step 4: Plot histogram before and after imputation\n",
        "plt.figure(figsize=(12, 5))\n",
        "\n",
        "plt.subplot(1, 2, 1)\n",
        "plt.hist(df_before['Value'].dropna(), bins=30, color='skyblue', edgecolor='black')\n",
        "plt.title('Before Imputation')\n",
        "plt.xlabel('Value')\n",
        "plt.ylabel('Frequency')\n",
        "\n",
        "plt.subplot(1, 2, 2)\n",
        "plt.hist(df['Value'], bins=30, color='lightgreen', edgecolor='black')\n",
        "plt.title('After Imputation')\n",
        "plt.xlabel('Value')\n",
        "plt.ylabel('Frequency')\n",
        "\n",
        "plt.tight_layout()\n",
        "plt.show()\n"
      ],
      "metadata": {
        "colab": {
          "base_uri": "https://localhost:8080/",
          "height": 648
        },
        "id": "KFYiFC6DFCVh",
        "outputId": "0b582d5e-612a-4744-b33c-1033c5139441"
      },
      "execution_count": 3,
      "outputs": [
        {
          "output_type": "stream",
          "name": "stderr",
          "text": [
            "/tmp/ipython-input-468820545.py:19: FutureWarning: A value is trying to be set on a copy of a DataFrame or Series through chained assignment using an inplace method.\n",
            "The behavior will change in pandas 3.0. This inplace method will never work because the intermediate object on which we are setting values always behaves as a copy.\n",
            "\n",
            "For example, when doing 'df[col].method(value, inplace=True)', try using 'df.method({col: value}, inplace=True)' or df[col] = df[col].method(value) instead, to perform the operation inplace on the original object.\n",
            "\n",
            "\n",
            "  df['Value'].fillna(mean_value, inplace=True)\n"
          ]
        },
        {
          "output_type": "display_data",
          "data": {
            "text/plain": [
              "<Figure size 1200x500 with 2 Axes>"
            ],
            "image/png": "[encoded data removed]"
          },
          "metadata": {}
        }
      ]
    },
    {
      "cell_type": "code",
      "source": [
        "#QUESTION 9\n",
        "from sklearn.preprocessing import MinMaxScaler\n",
        "import numpy as np\n",
        "\n",
        "# Original data\n",
        "data = np.array([[2], [5], [10], [15], [20]])\n",
        "\n",
        "# Initialize scaler and apply Min-Max scaling\n",
        "scaler = MinMaxScaler()\n",
        "scaled_data = scaler.fit_transform(data)\n",
        "\n",
        "# Print result\n",
        "print(\"Scaled data:\\n\", scaled_data)\n"
      ],
      "metadata": {
        "colab": {
          "base_uri": "https://localhost:8080/"
        },
        "id": "-8q7orh4FM11",
        "outputId": "699b0a26-9a79-4b26-dacb-43395d58b172"
      },
      "execution_count": 4,
      "outputs": [
        {
          "output_type": "stream",
          "name": "stdout",
          "text": [
            "Scaled data:\n",
            " [[0.        ]\n",
            " [0.16666667]\n",
            " [0.44444444]\n",
            " [0.72222222]\n",
            " [1.        ]]\n"
          ]
        }
      ]
    },
    {
      "cell_type": "markdown",
      "source": [],
      "metadata": {
        "id": "y4K9PSxuEfoc"
      }
    },
    {
      "cell_type": "code",
      "source": [
        "#QUESTION 10\n",
        "import pandas as pd\n",
        "import numpy as np\n",
        "from sklearn.impute import SimpleImputer\n",
        "from imblearn.over_sampling import SMOTE\n",
        "\n",
        "# Example dummy dataset\n",
        "data = {\n",
        "    'Age': [25, np.nan, 35, 40, np.nan, 29],\n",
        "    'TransactionAmount': [100, 5000, 150, 200, 30000, 120],\n",
        "    'PaymentMethod': ['Card', 'Cash', 'Card', 'Online', 'Cash', 'Card'],\n",
        "    'Fraud': [0, 0, 0, 1, 0, 1]\n",
        "}\n",
        "df = pd.DataFrame(data)\n",
        "\n",
        "# 1. Handle Missing Values (Age) - median imputation\n",
        "age_imputer = SimpleImputer(strategy='median')\n",
        "df['Age'] = age_imputer.fit_transform(df[['Age']])\n",
        "\n",
        "# 2. Handle Outliers in TransactionAmount using IQR capping\n",
        "Q1 = df['TransactionAmount'].quantile(0.25)\n",
        "Q3 = df['TransactionAmount'].quantile(0.75)\n",
        "IQR = Q3 - Q1\n",
        "lower_bound = Q1 - 1.5 * IQR\n",
        "upper_bound = Q3 + 1.5 * IQR\n",
        "\n",
        "df['TransactionAmount'] = np.where(df['TransactionAmount'] > upper_bound, upper_bound,\n",
        "                                   np.where(df['TransactionAmount'] < lower_bound, lower_bound,\n",
        "                                            df['TransactionAmount']))\n",
        "\n",
        "# 3. Encode Categorical Variable - One-hot encoding\n",
        "df_encoded = pd.get_dummies(df, columns=['PaymentMethod'], drop_first=True)\n",
        "\n",
        "# 4. Handle Imbalanced Target using SMOTE with k_neighbors=1\n",
        "X = df_encoded.drop('Fraud', axis=1)\n",
        "y = df_encoded['Fraud']\n",
        "\n",
        "smote = SMOTE(random_state=42, k_neighbors=1)\n",
        "X_resampled, y_resampled = smote.fit_resample(X, y)\n",
        "\n",
        "print(\"Original target distribution:\\n\", y.value_counts())\n",
        "print(\"\\nResampled target distribution:\\n\", pd.Series(y_resampled).value_counts())\n",
        "print(\"\\nPrepared feature data:\\n\", X_resampled.head())\n"
      ],
      "metadata": {
        "colab": {
          "base_uri": "https://localhost:8080/"
        },
        "id": "vTKwGItNGPCn",
        "outputId": "b2e856d4-41f3-45d5-9720-ae8a2e65c83f"
      },
      "execution_count": 7,
      "outputs": [
        {
          "output_type": "stream",
          "name": "stdout",
          "text": [
            "Original target distribution:\n",
            " Fraud\n",
            "0    4\n",
            "1    2\n",
            "Name: count, dtype: int64\n",
            "\n",
            "Resampled target distribution:\n",
            " Fraud\n",
            "0    4\n",
            "1    4\n",
            "Name: count, dtype: int64\n",
            "\n",
            "Prepared feature data:\n",
            "     Age  TransactionAmount  PaymentMethod_Cash  PaymentMethod_Online\n",
            "0  25.0             100.00               False                 False\n",
            "1  32.0            5000.00                True                 False\n",
            "2  35.0             150.00               False                 False\n",
            "3  40.0             200.00               False                  True\n",
            "4  32.0            9308.75                True                 False\n"
          ]
        }
      ]
    }
  ]
}